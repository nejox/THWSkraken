{
 "cells": [
  {
   "cell_type": "code",
   "execution_count": 1,
   "metadata": {},
   "outputs": [],
   "source": [
    "import requests\n",
    "from bs4 import BeautifulSoup\n",
    "import os\n",
    "import re\n",
    "from dotenv import load_dotenv\n",
    "\n",
    "load_dotenv(\"C:/Users/Jochen/THWSkraken/credentials.env\")\n",
    "\n",
    "url = 'https://elearning.fhws.de/login/index.php'\n",
    "values = {'username': os.environ.get('STUDENT_USER'),\n",
    "          'password': os.environ.get('STUDENT_PASSWORD'),\n",
    "          'anchor': ''}\n"
   ]
  },
  {
   "cell_type": "code",
   "execution_count": 8,
   "metadata": {},
   "outputs": [],
   "source": [
    "sess = requests.Session()"
   ]
  },
  {
   "cell_type": "code",
   "execution_count": 10,
   "metadata": {},
   "outputs": [
    {
     "data": {
      "text/plain": [
       "<RequestsCookieJar[Cookie(version=0, name='MoodleSession', value='u7qsble454bsn77k9fn11lii20', port=None, port_specified=False, domain='elearning.fhws.de', domain_specified=False, domain_initial_dot=False, path='/', path_specified=True, secure=True, expires=None, discard=True, comment=None, comment_url=None, rest={}, rfc2109=False)]>"
      ]
     },
     "execution_count": 10,
     "metadata": {},
     "output_type": "execute_result"
    }
   ],
   "source": [
    "sess.cookies"
   ]
  },
  {
   "cell_type": "code",
   "execution_count": 11,
   "metadata": {},
   "outputs": [],
   "source": [
    "def getCRSFToken():\n",
    "    r = sess.get(url)\n",
    "    soup = BeautifulSoup(r.text, 'html.parser')\n",
    "    return soup.find('input', {'name': 'logintoken'})['value']\n",
    "\n",
    "def login():\n",
    "    values['logintoken'] = getCRSFToken()\n",
    "    r = sess.post(url, data=values)\n",
    "    print(\"login:\", r.status_code)\n",
    "    return r\n",
    "\n",
    "def getCourses():\n",
    "    index = 0\n",
    "    ajax1 = 'https://elearning.fhws.de/theme/remui/request_handler.php?action=get_courses_ajax&wdmdata={%22category%22:%22all%22,%22sort%22:null,%22search%22:%22%22,%22tab%22:true,%22page%22:{%22courses%22:0,%22mycourses%22:%22'\n",
    "    #\"https://elearning.fhws.de/theme/remui/request_handler.php?action=get_courses_ajax&wdmdata={'category':'all','sort':null,'search':'','tab':true,'page':{'courses':0,'mycourses':\"\n",
    "    ajax2 = '%22},%22pagination%22:true,%22view%22:%22grid%22,%22isFilterModified%22:true}'\n",
    "    courses = []\n",
    "    r = sess.get(ajax1 + str(index) + ajax2)\n",
    "    print(\"get courses:\", r.status_code)\n",
    "    content = r.json()\n",
    "    print(content.keys())\n",
    "    print(content[\"pagination\"])\n",
    "    print(len(content[\"pagination\"]))\n",
    "    maxIndex = max(map(int, re.findall(\"page=(\\d)\", content[\"pagination\"])))\n",
    "    print(\"maxIndex:\", maxIndex)\n",
    "    print(\"len courses:\", len(content[\"courses\"]))\n",
    "    courses.extend(content[\"courses\"])\n",
    "    index += 1\n",
    "    while index <= maxIndex:\n",
    "        r = sess.get(ajax1 + str(index) + ajax2)\n",
    "        content = r.json()\n",
    "        courses.extend(content[\"courses\"])\n",
    "        index += 1\n",
    "    return courses"
   ]
  },
  {
   "cell_type": "code",
   "execution_count": 12,
   "metadata": {},
   "outputs": [
    {
     "name": "stdout",
     "output_type": "stream",
     "text": [
      "get courses: 200\n",
      "dict_keys(['pagination', 'courses', 'view'])\n",
      "\n"
     ]
    },
    {
     "ename": "ValueError",
     "evalue": "max() arg is an empty sequence",
     "output_type": "error",
     "traceback": [
      "\u001b[1;31m---------------------------------------------------------------------------\u001b[0m",
      "\u001b[1;31mValueError\u001b[0m                                Traceback (most recent call last)",
      "\u001b[1;32m~\\AppData\\Local\\Temp\\ipykernel_28764\\2450961619.py\u001b[0m in \u001b[0;36m<cell line: 1>\u001b[1;34m()\u001b[0m\n\u001b[1;32m----> 1\u001b[1;33m \u001b[0mcourses\u001b[0m \u001b[1;33m=\u001b[0m \u001b[0mgetCourses\u001b[0m\u001b[1;33m(\u001b[0m\u001b[1;33m)\u001b[0m\u001b[1;33m\u001b[0m\u001b[1;33m\u001b[0m\u001b[0m\n\u001b[0m",
      "\u001b[1;32m~\\AppData\\Local\\Temp\\ipykernel_28764\\2128943286.py\u001b[0m in \u001b[0;36mgetCourses\u001b[1;34m()\u001b[0m\n\u001b[0;32m     21\u001b[0m     \u001b[0mprint\u001b[0m\u001b[1;33m(\u001b[0m\u001b[0mcontent\u001b[0m\u001b[1;33m.\u001b[0m\u001b[0mkeys\u001b[0m\u001b[1;33m(\u001b[0m\u001b[1;33m)\u001b[0m\u001b[1;33m)\u001b[0m\u001b[1;33m\u001b[0m\u001b[1;33m\u001b[0m\u001b[0m\n\u001b[0;32m     22\u001b[0m     \u001b[0mprint\u001b[0m\u001b[1;33m(\u001b[0m\u001b[0mcontent\u001b[0m\u001b[1;33m[\u001b[0m\u001b[1;34m\"pagination\"\u001b[0m\u001b[1;33m]\u001b[0m\u001b[1;33m)\u001b[0m\u001b[1;33m\u001b[0m\u001b[1;33m\u001b[0m\u001b[0m\n\u001b[1;32m---> 23\u001b[1;33m     \u001b[0mmaxIndex\u001b[0m \u001b[1;33m=\u001b[0m \u001b[0mmax\u001b[0m\u001b[1;33m(\u001b[0m\u001b[0mmap\u001b[0m\u001b[1;33m(\u001b[0m\u001b[0mint\u001b[0m\u001b[1;33m,\u001b[0m \u001b[0mre\u001b[0m\u001b[1;33m.\u001b[0m\u001b[0mfindall\u001b[0m\u001b[1;33m(\u001b[0m\u001b[1;34m\"page=(\\d)\"\u001b[0m\u001b[1;33m,\u001b[0m \u001b[0mcontent\u001b[0m\u001b[1;33m[\u001b[0m\u001b[1;34m\"pagination\"\u001b[0m\u001b[1;33m]\u001b[0m\u001b[1;33m)\u001b[0m\u001b[1;33m)\u001b[0m\u001b[1;33m)\u001b[0m\u001b[1;33m\u001b[0m\u001b[1;33m\u001b[0m\u001b[0m\n\u001b[0m\u001b[0;32m     24\u001b[0m     \u001b[0mprint\u001b[0m\u001b[1;33m(\u001b[0m\u001b[1;34m\"maxIndex:\"\u001b[0m\u001b[1;33m,\u001b[0m \u001b[0mmaxIndex\u001b[0m\u001b[1;33m)\u001b[0m\u001b[1;33m\u001b[0m\u001b[1;33m\u001b[0m\u001b[0m\n\u001b[0;32m     25\u001b[0m     \u001b[0mprint\u001b[0m\u001b[1;33m(\u001b[0m\u001b[1;34m\"len courses:\"\u001b[0m\u001b[1;33m,\u001b[0m \u001b[0mlen\u001b[0m\u001b[1;33m(\u001b[0m\u001b[0mcontent\u001b[0m\u001b[1;33m[\u001b[0m\u001b[1;34m\"courses\"\u001b[0m\u001b[1;33m]\u001b[0m\u001b[1;33m)\u001b[0m\u001b[1;33m)\u001b[0m\u001b[1;33m\u001b[0m\u001b[1;33m\u001b[0m\u001b[0m\n",
      "\u001b[1;31mValueError\u001b[0m: max() arg is an empty sequence"
     ]
    }
   ],
   "source": [
    "courses = getCourses()"
   ]
  },
  {
   "cell_type": "code",
   "execution_count": null,
   "metadata": {},
   "outputs": [
    {
     "data": {
      "text/plain": [
       "43"
      ]
     },
     "execution_count": 53,
     "metadata": {},
     "output_type": "execute_result"
    }
   ],
   "source": [
    "len(courses)"
   ]
  },
  {
   "cell_type": "code",
   "execution_count": 5,
   "metadata": {},
   "outputs": [
    {
     "ename": "NameError",
     "evalue": "name 'courses' is not defined",
     "output_type": "error",
     "traceback": [
      "\u001b[1;31m---------------------------------------------------------------------------\u001b[0m",
      "\u001b[1;31mNameError\u001b[0m                                 Traceback (most recent call last)",
      "\u001b[1;32m~\\AppData\\Local\\Temp\\ipykernel_28764\\861406637.py\u001b[0m in \u001b[0;36m<cell line: 2>\u001b[1;34m()\u001b[0m\n\u001b[0;32m      1\u001b[0m \u001b[1;32mimport\u001b[0m \u001b[0mpandas\u001b[0m \u001b[1;32mas\u001b[0m \u001b[0mpd\u001b[0m\u001b[1;33m\u001b[0m\u001b[1;33m\u001b[0m\u001b[0m\n\u001b[1;32m----> 2\u001b[1;33m \u001b[0mnames\u001b[0m \u001b[1;33m=\u001b[0m \u001b[1;33m[\u001b[0m\u001b[0mre\u001b[0m\u001b[1;33m.\u001b[0m\u001b[0msearch\u001b[0m\u001b[1;33m(\u001b[0m\u001b[1;34m\">(.*)<\"\u001b[0m\u001b[1;33m,\u001b[0m \u001b[0melement\u001b[0m\u001b[1;33m[\u001b[0m\u001b[1;34m\"coursename\"\u001b[0m\u001b[1;33m]\u001b[0m\u001b[1;33m)\u001b[0m\u001b[1;33m.\u001b[0m\u001b[0mgroup\u001b[0m\u001b[1;33m(\u001b[0m\u001b[1;36m1\u001b[0m\u001b[1;33m)\u001b[0m \u001b[1;32mfor\u001b[0m \u001b[0melement\u001b[0m \u001b[1;32min\u001b[0m \u001b[0mcourses\u001b[0m\u001b[1;33m]\u001b[0m\u001b[1;33m.\u001b[0m\u001b[0msort\u001b[0m\u001b[1;33m(\u001b[0m\u001b[1;33m)\u001b[0m\u001b[1;33m\u001b[0m\u001b[1;33m\u001b[0m\u001b[0m\n\u001b[0m\u001b[0;32m      3\u001b[0m \u001b[0mpd\u001b[0m\u001b[1;33m.\u001b[0m\u001b[0mDataFrame\u001b[0m\u001b[1;33m(\u001b[0m\u001b[0mnames\u001b[0m\u001b[1;33m)\u001b[0m\u001b[1;33m\u001b[0m\u001b[1;33m\u001b[0m\u001b[0m\n",
      "\u001b[1;31mNameError\u001b[0m: name 'courses' is not defined"
     ]
    }
   ],
   "source": [
    "import pandas as pd\n",
    "names = [re.search(\">(.*)<\", element[\"coursename\"]).group(1) for element in courses].sort()\n",
    "pd.DataFrame(names)"
   ]
  },
  {
   "cell_type": "code",
   "execution_count": 36,
   "metadata": {},
   "outputs": [
    {
     "name": "stdout",
     "output_type": "stream",
     "text": [
      "dict_keys(['pagination', 'courses', 'view'])\n"
     ]
    }
   ],
   "source": [
    "r = sess.get('https://elearning.fhws.de/theme/remui/request_handler.php?action=get_courses_ajax&wdmdata={%22category%22:%22all%22,%22sort%22:null,%22search%22:%22%22,%22tab%22:true,%22page%22:{%22courses%22:0,%22mycourses%22:%221%22},%22pagination%22:true,%22view%22:%22grid%22,%22isFilterModified%22:true}&sesskey=6RPR7P5PT7')\n",
    "print(r.json().keys())"
   ]
  },
  {
   "cell_type": "code",
   "execution_count": 8,
   "metadata": {},
   "outputs": [
    {
     "name": "stdout",
     "output_type": "stream",
     "text": [
      "<RequestsCookieJar[]>\n"
     ]
    },
    {
     "ename": "TypeError",
     "evalue": "'NoneType' object is not subscriptable",
     "output_type": "error",
     "traceback": [
      "\u001b[1;31m---------------------------------------------------------------------------\u001b[0m",
      "\u001b[1;31mTypeError\u001b[0m                                 Traceback (most recent call last)",
      "\u001b[1;32m~\\AppData\\Local\\Temp\\ipykernel_11892\\294566708.py\u001b[0m in \u001b[0;36m<cell line: 4>\u001b[1;34m()\u001b[0m\n\u001b[0;32m      2\u001b[0m \u001b[0mprint\u001b[0m\u001b[1;33m(\u001b[0m\u001b[0mpage\u001b[0m\u001b[1;33m.\u001b[0m\u001b[0mcookies\u001b[0m\u001b[1;33m)\u001b[0m\u001b[1;33m\u001b[0m\u001b[1;33m\u001b[0m\u001b[0m\n\u001b[0;32m      3\u001b[0m \u001b[0msignin\u001b[0m \u001b[1;33m=\u001b[0m \u001b[0mBeautifulSoup\u001b[0m\u001b[1;33m(\u001b[0m\u001b[0mpage\u001b[0m\u001b[1;33m.\u001b[0m\u001b[0mcontent\u001b[0m\u001b[1;33m,\u001b[0m \u001b[1;34m'html.parser'\u001b[0m\u001b[1;33m)\u001b[0m\u001b[1;33m\u001b[0m\u001b[1;33m\u001b[0m\u001b[0m\n\u001b[1;32m----> 4\u001b[1;33m \u001b[0mtoken\u001b[0m \u001b[1;33m=\u001b[0m \u001b[0msignin\u001b[0m\u001b[1;33m.\u001b[0m\u001b[0mfind\u001b[0m\u001b[1;33m(\u001b[0m\u001b[1;34m'input'\u001b[0m\u001b[1;33m,\u001b[0m \u001b[1;33m{\u001b[0m\u001b[1;34m'name'\u001b[0m\u001b[1;33m:\u001b[0m \u001b[1;34m'logintoken'\u001b[0m\u001b[1;33m}\u001b[0m\u001b[1;33m)\u001b[0m\u001b[1;33m[\u001b[0m\u001b[1;34m'value'\u001b[0m\u001b[1;33m]\u001b[0m\u001b[1;33m\u001b[0m\u001b[1;33m\u001b[0m\u001b[0m\n\u001b[0m\u001b[0;32m      5\u001b[0m \u001b[0mprint\u001b[0m\u001b[1;33m(\u001b[0m\u001b[0mtoken\u001b[0m\u001b[1;33m)\u001b[0m\u001b[1;33m\u001b[0m\u001b[1;33m\u001b[0m\u001b[0m\n\u001b[0;32m      6\u001b[0m \u001b[0mvalues\u001b[0m\u001b[1;33m[\u001b[0m\u001b[1;34m'logintoken'\u001b[0m\u001b[1;33m]\u001b[0m \u001b[1;33m=\u001b[0m \u001b[0mtoken\u001b[0m\u001b[1;33m\u001b[0m\u001b[1;33m\u001b[0m\u001b[0m\n",
      "\u001b[1;31mTypeError\u001b[0m: 'NoneType' object is not subscriptable"
     ]
    }
   ],
   "source": [
    "page = sess.get(url)\n",
    "print(page.cookies)\n",
    "signin = BeautifulSoup(page.content, 'html.parser')\n",
    "token = signin.find('input', {'name': 'logintoken'})['value']\n",
    "print(token)\n",
    "values['logintoken'] = token\n",
    "r = requests.post(url, data=values, headers=dict(Referer=url), cookies=page.cookies)\n",
    "print(r.status_code)\n",
    "print(r.cookies)\n",
    "print(r.history[0].cookies)\n",
    "cookies = r.history[0].cookies\n",
    "r = requests.get(\n",
    "    'https://elearning.fhws.de/theme/remui/request_handler.php?action=get_courses_ajax&wdmdata={\"category\":\"all\",\"sort\":null,\"search\":\"\",\"tab\":true,\"page\":{\"courses\":0,\"mycourses\":0},\"pagination\":true,\"view\":null,\"isFilterModified\":true}',\n",
    "    headers=dict(Referer='https://elearning.fhws.de/course/index.php?mycourses=1'), cookies=cookies)\n",
    "print(r.status_code)\n",
    "content = r.json()\n",
    "print(content.keys())\n",
    "print(len(content['courses']))\n",
    "print(content['courses'][0])\n"
   ]
  },
  {
   "cell_type": "code",
   "execution_count": 4,
   "metadata": {},
   "outputs": [
    {
     "data": {
      "text/plain": [
       "'<nav aria-label=\"Seite\">\\n        <ul class=\"pagination pagination-no-border\">\\n                <li class=\"page-item active disableClick\">\\n                    <a href=\"\" class=\"page-link mx-sm-5\">\\n                        1\\n                            <span class=\"sr-only\">(aktuell)</span>\\n                    </a>\\n                </li>\\n                <li class=\"page-item \">\\n                    <a href=\"javascript://void(0);?page=1\" class=\"page-link mx-sm-5\">\\n                        2\\n                    </a>\\n                </li>\\n                <li class=\"page-item \">\\n                    <a href=\"javascript://void(0);?page=2\" class=\"page-link mx-sm-5\">\\n                        3\\n                    </a>\\n                </li>\\n                <li class=\"page-item \">\\n                    <a href=\"javascript://void(0);?page=3\" class=\"page-link mx-sm-5\">\\n                        4\\n                    </a>\\n                </li>\\n                <li class=\"page-item\">\\n                    <a href=\"javascript://void(0);?page=1\" class=\"page-link\">\\n                        <span aria-hidden=\"true\"><i class=\"fa fa-chevron-right font-size-12 text-muted\" aria-hidden=\"true\"></i></span>\\n                        <span class=\"sr-only\">Weiter</span>\\n                    </a>\\n                </li>\\n        </ul>\\n    </nav>'"
      ]
     },
     "execution_count": 4,
     "metadata": {},
     "output_type": "execute_result"
    }
   ],
   "source": [
    "content[\"pagination\"]"
   ]
  },
  {
   "cell_type": "code",
   "execution_count": 5,
   "metadata": {},
   "outputs": [],
   "source": [
    "from kraken import SoupChef\n",
    "sou = SoupChef()"
   ]
  },
  {
   "cell_type": "code",
   "execution_count": 8,
   "metadata": {},
   "outputs": [],
   "source": [
    "soup = sou.get_soup_from_text(content[\"pagination\"])"
   ]
  },
  {
   "cell_type": "code",
   "execution_count": 13,
   "metadata": {},
   "outputs": [
    {
     "data": {
      "text/plain": [
       "<a class=\"page-link mx-sm-5\" href=\"\">\n",
       "                        1\n",
       "                            <span class=\"sr-only\">(aktuell)</span>\n",
       "</a>"
      ]
     },
     "execution_count": 13,
     "metadata": {},
     "output_type": "execute_result"
    }
   ],
   "source": [
    "results = soup.find_all(\"a\")\n",
    "results[0]"
   ]
  }
 ],
 "metadata": {
  "kernelspec": {
   "display_name": "Python 3",
   "language": "python",
   "name": "python3"
  },
  "language_info": {
   "codemirror_mode": {
    "name": "ipython",
    "version": 3
   },
   "file_extension": ".py",
   "mimetype": "text/x-python",
   "name": "python",
   "nbconvert_exporter": "python",
   "pygments_lexer": "ipython3",
   "version": "3.9.6"
  },
  "orig_nbformat": 4,
  "vscode": {
   "interpreter": {
    "hash": "e09c07673d3a7f5c44e4b5036d2372e0dd3f1933a01e0d465adb0862f4694c68"
   }
  }
 },
 "nbformat": 4,
 "nbformat_minor": 2
}

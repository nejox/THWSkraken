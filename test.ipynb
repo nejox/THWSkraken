{
 "cells": [
  {
   "cell_type": "code",
   "execution_count": 1,
   "metadata": {},
   "outputs": [],
   "source": [
    "import requests\n",
    "from bs4 import BeautifulSoup\n",
    "import os\n",
    "from dotenv import load_dotenv\n",
    "\n",
    "load_dotenv(\"C:/Users/Jochen/THWSkraken/credentials.env\")\n",
    "\n",
    "url = 'https://elearning.fhws.de/login/index.php'\n",
    "values = {'username': os.environ.get('STUDENT_USER'),\n",
    "          'password': os.environ.get('STUDENT_PASSWORD'),\n",
    "          'anchor': ''}\n"
   ]
  },
  {
   "cell_type": "code",
   "execution_count": 2,
   "metadata": {},
   "outputs": [],
   "source": [
    "sess = requests.Session()"
   ]
  },
  {
   "cell_type": "code",
   "execution_count": 4,
   "metadata": {},
   "outputs": [
    {
     "name": "stdout",
     "output_type": "stream",
     "text": [
      "<RequestsCookieJar[<Cookie MoodleSession=eaagj5gah778qcajffi9jpkrji for elearning.fhws.de/>]>\n",
      "mZwEm7EUmADAwNoOS46U5SKUMQAH7s4O\n",
      "200\n",
      "<RequestsCookieJar[]>\n",
      "<RequestsCookieJar[<Cookie MoodleSession=mo0ek2d1dj2neit628lcs57erh for elearning.fhws.de/>]>\n",
      "200\n",
      "dict_keys(['pagination', 'courses', 'view'])\n",
      "12\n",
      "{'id': '9810', 'grader': 'https://elearning.fhws.de/grade/report/grader/index.php?id=9810', 'shortname': '<div class=\"text_to_html\">Fix_AWPF_GrFH</div>', 'courseurl': 'https://elearning.fhws.de/course/view.php?id=9810', 'coursename': '<div class=\"text_to_html\">Gründen@FHWS</div>', 'enrollusers': 'https://elearning.fhws.de/user/index.php?id=9810&version=9810', 'editcourse': 'https://elearning.fhws.de/course/edit.php?id=9810', 'categoryname': '<div class=\"text_to_html\">AWPF-Fix</div>', 'courseimage': 'https://elearning.fhws.de/pluginfile.php/782757/course/overviewfiles/200812_ENTREPRENEUR_Logo_kompakt.jpg', 'coursesummary': '', 'startdate': {'day': '01', 'month': 'Oct', 'year': '2021'}, 'mycourses': True, 'instructors': [{'name': 'Monika Waschik', 'url': 'https://elearning.fhws.de/user/profile.php?id=481412', 'picture': 'https://elearning.fhws.de/pluginfile.php/748925/user/icon/remui/f1?rev=6148595'}], 'widthclasses': 'col-lg-3 col-sm-12 col-md-6', 'animation': 'none', 'old_card': True}\n"
     ]
    }
   ],
   "source": [
    "page = sess.get(url)\n",
    "print(page.cookies)\n",
    "signin = BeautifulSoup(page.content, 'html.parser')\n",
    "token = signin.find('input', {'name': 'logintoken'})['value']\n",
    "print(token)\n",
    "values['logintoken'] = token\n",
    "r = requests.post(url, data=values, headers=dict(Referer=url), cookies=page.cookies)\n",
    "print(r.status_code)\n",
    "print(r.cookies)\n",
    "print(r.history[0].cookies)\n",
    "cookies = r.history[0].cookies\n",
    "r = requests.get(\n",
    "    'https://elearning.fhws.de/theme/remui/request_handler.php?action=get_courses_ajax&wdmdata={\"category\":\"all\",\"sort\":null,\"search\":\"\",\"tab\":true,\"page\":{\"courses\":0,\"mycourses\":0},\"pagination\":true,\"view\":null,\"isFilterModified\":true}',\n",
    "    headers=dict(Referer='https://elearning.fhws.de/course/index.php?mycourses=1'), cookies=cookies)\n",
    "print(r.status_code)\n",
    "content = r.json()\n",
    "print(content.keys())\n",
    "print(len(content['courses']))\n",
    "print(content['courses'][0])\n"
   ]
  },
  {
   "cell_type": "code",
   "execution_count": 5,
   "metadata": {},
   "outputs": [
    {
     "data": {
      "text/plain": [
       "'<nav aria-label=\"Seite\">\\n        <ul class=\"pagination pagination-no-border\">\\n                <li class=\"page-item active disableClick\">\\n                    <a href=\"\" class=\"page-link mx-sm-5\">\\n                        1\\n                            <span class=\"sr-only\">(aktuell)</span>\\n                    </a>\\n                </li>\\n                <li class=\"page-item \">\\n                    <a href=\"javascript://void(0);?page=1\" class=\"page-link mx-sm-5\">\\n                        2\\n                    </a>\\n                </li>\\n                <li class=\"page-item \">\\n                    <a href=\"javascript://void(0);?page=2\" class=\"page-link mx-sm-5\">\\n                        3\\n                    </a>\\n                </li>\\n                <li class=\"page-item \">\\n                    <a href=\"javascript://void(0);?page=3\" class=\"page-link mx-sm-5\">\\n                        4\\n                    </a>\\n                </li>\\n                <li class=\"page-item\">\\n                    <a href=\"javascript://void(0);?page=1\" class=\"page-link\">\\n                        <span aria-hidden=\"true\"><i class=\"fa fa-chevron-right font-size-12 text-muted\" aria-hidden=\"true\"></i></span>\\n                        <span class=\"sr-only\">Weiter</span>\\n                    </a>\\n                </li>\\n        </ul>\\n    </nav>'"
      ]
     },
     "execution_count": 5,
     "metadata": {},
     "output_type": "execute_result"
    }
   ],
   "source": [
    "content[\"pagination\"]"
   ]
  },
  {
   "cell_type": "code",
   "execution_count": null,
   "metadata": {},
   "outputs": [],
   "source": [
    "from kraken import SoupChef"
   ]
  }
 ],
 "metadata": {
  "kernelspec": {
   "display_name": "Python 3",
   "language": "python",
   "name": "python3"
  },
  "language_info": {
   "codemirror_mode": {
    "name": "ipython",
    "version": 3
   },
   "file_extension": ".py",
   "mimetype": "text/x-python",
   "name": "python",
   "nbconvert_exporter": "python",
   "pygments_lexer": "ipython3",
   "version": "3.9.6"
  },
  "orig_nbformat": 4,
  "vscode": {
   "interpreter": {
    "hash": "e09c07673d3a7f5c44e4b5036d2372e0dd3f1933a01e0d465adb0862f4694c68"
   }
  }
 },
 "nbformat": 4,
 "nbformat_minor": 2
}
